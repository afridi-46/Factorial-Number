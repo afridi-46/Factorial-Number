{
  "nbformat": 4,
  "nbformat_minor": 0,
  "metadata": {
    "colab": {
      "provenance": []
    },
    "kernelspec": {
      "name": "python3",
      "display_name": "Python 3"
    },
    "language_info": {
      "name": "python"
    }
  },
  "cells": [
    {
      "cell_type": "code",
      "source": [
        "n = int(input(\"Enter input number : \"))\n",
        "\n",
        "fact = 1\n",
        "if n < 0:\n",
        "    print(\"Factorial number does not exist in negative numbers\")\n",
        "elif n == 0:\n",
        "    print(\"The factorial of 0 is equal to 1\")\n",
        "else:\n",
        "    for i in range(1, n + 1):\n",
        "        fact = fact * i\n",
        "    print(\"The factorial of\",n,\"is\",fact)\n"
      ],
      "metadata": {
        "colab": {
          "base_uri": "https://localhost:8080/"
        },
        "id": "Y6pj8LCetveQ",
        "outputId": "1611c2d0-6bd1-487f-8e34-3c950913488c"
      },
      "execution_count": 31,
      "outputs": [
        {
          "output_type": "stream",
          "name": "stdout",
          "text": [
            "Enter input number : 4\n",
            "The factorial of 4 is 24\n"
          ]
        }
      ]
    },
    {
      "cell_type": "code",
      "source": [],
      "metadata": {
        "id": "qvm4PwOKvkLR"
      },
      "execution_count": null,
      "outputs": []
    }
  ]
}